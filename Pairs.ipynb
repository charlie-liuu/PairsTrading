{
 "cells": [
  {
   "attachments": {},
   "cell_type": "markdown",
   "metadata": {},
   "source": [
    "# Pairs Trading Algorithm Project"
   ]
  },
  {
   "attachments": {},
   "cell_type": "markdown",
   "metadata": {},
   "source": [
    "## <b>Overview</b>"
   ]
  },
  {
   "cell_type": "markdown",
   "metadata": {},
   "source": [
    "- Pairs trading is a statistical arbitrage form of trading based on mean reversion\n",
    "- It is a strategy where we look to find a highly correlated and stationary pair of securities (ie: 0.9 correlation)\n",
    "- The goal is to be long Security A, and short Security B such that you maximize the return on both assets reverting to their means, while eliminating your exposure to Delta Risk\n",
    "     - The aim of pairs trading is to bet that, if the prices of 2 assets diverge, they will converge eventually"
   ]
  },
  {
   "attachments": {},
   "cell_type": "markdown",
   "metadata": {},
   "source": [
    "- Here is a diagram of the basic concept of pairs trading, notice that the return on the trade is the spread capitalization - transaction cost \n",
    "\n",
    "![PairsTradingDiagram.png](PairsTradingDiagram.png)\n"
   ]
  },
  {
   "attachments": {},
   "cell_type": "markdown",
   "metadata": {},
   "source": [
    "1.<b>Method:</b>\n",
    "1. We aim to create a model which tests for correlation between the basket of securities for stationary pairs\n",
    "2. We then test for cointegration, which is a test between two time series to whether they will deviate approximating a relative mean\n",
    "    - To do so, we can use the <b>Engle–Granger</b> two-step method to test for cointegration\n",
    "    - We can also use the <b>Johansen</b> test to check for cointegration between the two time series\n",
    "3. We also need to test for stationarity of the time series, whether the time series have variances or means which changes over time\n",
    "    - Examples of these could be stochastic processes such as random walk time series, or trend/cycle time series\n",
    "    - We can test for stationarity using the <b>Augmented Dickey-Fuller Test</b>\n"
   ]
  },
  {
   "attachments": {},
   "cell_type": "markdown",
   "metadata": {},
   "source": [
    "2.<b>Imports</b>"
   ]
  },
  {
   "cell_type": "code",
   "execution_count": 2,
   "metadata": {},
   "outputs": [],
   "source": [
    "from statistics import mean\n",
    "import pandas as pd\n",
    "import pandas_datareader as pdr\n",
    "from datetime import datetime\n",
    "import yfinance as yf\n",
    "from statsmodels.regression.linear_model import OLS\n",
    "from statsmodels.tsa.stattools import coint\n",
    "import matplotlib.pyplot as plt\n",
    "from hurst import compute_Hc\n",
    "import math\n",
    "import seaborn as sn\n",
    "from matplotlib.pyplot import figure\n",
    "import statsmodels.tsa.stattools as ts\n",
    "from statsmodels.tsa.stattools import adfuller"
   ]
  },
  {
   "attachments": {},
   "cell_type": "markdown",
   "metadata": {},
   "source": [
    "Tool Utilization:\n",
    "- Pandas (Data Manipulation)\n",
    "- yFinance(Pulling Data Points)\n",
    "- Stats Models\n",
    "- Hurst\n",
    "- Date Time\n",
    "- Seaborn (Heat Maps)"
   ]
  },
  {
   "attachments": {},
   "cell_type": "markdown",
   "metadata": {},
   "source": [
    "<b>Trading Method:</b>\n",
    "- Find 2 assets from S&P500 that move similarly with eachother (whether it be a negative or positive correlation or cointegration)\n",
    "- Trade the spread tightening (mean-reversion) between the two correlated securities by being long Security A and Short Security B\n",
    "- Lets try to generate some fake securities to test for cointegration"
   ]
  },
  {
   "attachments": {},
   "cell_type": "markdown",
   "metadata": {},
   "source": [
    "d"
   ]
  }
 ],
 "metadata": {
  "kernelspec": {
   "display_name": "Python 3",
   "language": "python",
   "name": "python3"
  },
  "language_info": {
   "codemirror_mode": {
    "name": "ipython",
    "version": 3
   },
   "file_extension": ".py",
   "mimetype": "text/x-python",
   "name": "python",
   "nbconvert_exporter": "python",
   "pygments_lexer": "ipython3",
   "version": "3.11.1"
  },
  "orig_nbformat": 4,
  "vscode": {
   "interpreter": {
    "hash": "c5ae3cec2f3f96488897f885e652fa634b210e3cc298bfdc84438f64d6ae13e3"
   }
  }
 },
 "nbformat": 4,
 "nbformat_minor": 2
}
