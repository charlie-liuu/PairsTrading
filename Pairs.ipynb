{
 "cells": [
  {
   "attachments": {},
   "cell_type": "markdown",
   "metadata": {},
   "source": [
    "# Pairs Trading Algorithm Project"
   ]
  },
  {
   "attachments": {},
   "cell_type": "markdown",
   "metadata": {},
   "source": [
    "## <b>Overview</b>"
   ]
  },
  {
   "cell_type": "markdown",
   "metadata": {},
   "source": [
    "- Pairs trading is a statistical arbitrage form of trading based on mean reversion\n",
    "- It is a strategy where we look to find a highly correlated and stationary pair of securities (ie: 0.9 correlation)\n",
    "- The goal is to be long Security A, and short Security B such that you maximize the return on both assets reverting to their means, while eliminating your exposure to Delta Risk\n",
    "     - The aim of pairs trading is to bet that, if the prices of 2 assets diverge, they will converge eventually"
   ]
  },
  {
   "attachments": {
    "image.png": {
     "image/png": "[encoded data removed]"
    }
   },
   "cell_type": "markdown",
   "metadata": {},
   "source": [
    "- Here is a diagram of the basic concept of pairs trading, notice that the return on the trade is the spread capitalization - transaction cost \n",
    "![PairsTradingDiagram.png](PairsTradingDiagram.png)\n"
   ]
  },
  {
   "attachments": {},
   "cell_type": "markdown",
   "metadata": {},
   "source": [
    "We "
   ]
  },
  {
   "attachments": {},
   "cell_type": "markdown",
   "metadata": {},
   "source": [
    "1.<b>Imports</b>"
   ]
  },
  {
   "cell_type": "code",
   "execution_count": 1,
   "metadata": {},
   "outputs": [],
   "source": [
    "from statistics import mean\n",
    "import pandas as pdj\n",
    "import pandas_datareader as pdr\n",
    "from datetime import datetime\n",
    "import yfinance as yf\n",
    "from statsmodels.regression.linear_model import OLS\n",
    "from statsmodels.tsa.stattools import coint\n",
    "import matplotlib.pyplot as plt\n",
    "from hurst import compute_Hc\n",
    "import math\n",
    "import seaborn as sn\n",
    "from matplotlib.pyplot import figure\n",
    "import statsmodels.tsa.stattools as ts\n",
    "from statsmodels.tsa.stattools import adfuller"
   ]
  },
  {
   "cell_type": "markdown",
   "metadata": {},
   "source": []
  }
 ],
 "metadata": {
  "kernelspec": {
   "display_name": "Python 3",
   "language": "python",
   "name": "python3"
  },
  "language_info": {
   "codemirror_mode": {
    "name": "ipython",
    "version": 3
   },
   "file_extension": ".py",
   "mimetype": "text/x-python",
   "name": "python",
   "nbconvert_exporter": "python",
   "pygments_lexer": "ipython3",
   "version": "3.11.1"
  },
  "orig_nbformat": 4,
  "vscode": {
   "interpreter": {
    "hash": "c5ae3cec2f3f96488897f885e652fa634b210e3cc298bfdc84438f64d6ae13e3"
   }
  }
 },
 "nbformat": 4,
 "nbformat_minor": 2
}
